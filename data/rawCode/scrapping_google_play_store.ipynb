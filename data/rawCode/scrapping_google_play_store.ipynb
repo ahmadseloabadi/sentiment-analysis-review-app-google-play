{
  "cells": [
    {
      "cell_type": "code",
      "execution_count": null,
      "metadata": {
        "colab": {
          "background_save": true
        },
        "id": "qQptG9z6iVX0",
        "outputId": "d1cedf18-ae1f-4d40-ea71-09513c3869b5"
      },
      "outputs": [
        {
          "name": "stdout",
          "output_type": "stream",
          "text": [
            "Requirement already satisfied: google_play_scraper in /usr/local/lib/python3.10/dist-packages (1.2.6)\n"
          ]
        }
      ],
      "source": [
        "!pip install google_play_scraper\n",
        "import csv\n",
        "from google_play_scraper import app, reviews,Sort\n",
        "\n",
        "# ID paket aplikasi yang ingin di-scraper\n",
        "app_id = 'com.finaccel.android'\n",
        "\n",
        "# Mengambil informasi aplikasi\n",
        "app_info = app(app_id)\n",
        "\n",
        "# Jumlah review yang ingin diambil\n",
        "total_reviews = 100\n",
        "reviews_per_request = 200  # Jumlah review per permintaan\n",
        "\n",
        "# Mengambil review aplikasi sebanyak total_reviews\n",
        "result = []\n",
        "continuation_token = None\n",
        "while len(result) < total_reviews:\n",
        "    count = min(reviews_per_request, total_reviews - len(result))\n",
        "    reviews_, continuation_token = reviews(\n",
        "        app_id,\n",
        "        lang='id',  # Bahasa review (opsional, default: 'en')\n",
        "        count=count,  # Jumlah review yang akan diambil (opsional, default: 100)\n",
        "        sort=Sort.NEWEST,  # Urutan review (opsional, default: 'newest')\n",
        "        continuation_token=continuation_token\n",
        "    )\n",
        "    result.extend(reviews_)\n",
        "\n",
        "# # Menyimpan hasil scraping dalam file CSV\n",
        "# csv_file = 'review_aplikasi.csv'\n",
        "# with open(csv_file, mode='w', newline='', encoding='utf-8') as file:\n",
        "#     writer = csv.writer(file)\n",
        "#     writer.writerow(['Rating', 'Tanggal', 'Isi Review'])\n",
        "#     for review in result:\n",
        "#         writer.writerow([review['score'], review['date'], review['content']])\n",
        "\n",
        "# print(f\"Data review aplikasi telah disimpan dalam file {csv_file}.\")\n"
      ]
    },
    {
      "cell_type": "code",
      "execution_count": null,
      "metadata": {
        "colab": {
          "base_uri": "https://localhost:8080/",
          "height": 185
        },
        "id": "f9DvUg5pAdVs",
        "outputId": "b1ce53e8-43e1-4b11-892c-b583bd0c662d"
      },
      "outputs": [
        {
          "ename": "TypeError",
          "evalue": "list indices must be integers or slices, not str",
          "output_type": "error",
          "traceback": [
            "\u001b[0;31m---------------------------------------------------------------------------\u001b[0m",
            "\u001b[0;31mTypeError\u001b[0m                                 Traceback (most recent call last)",
            "\u001b[0;32m<ipython-input-16-2ae4a6575209>\u001b[0m in \u001b[0;36m<cell line: 13>\u001b[0;34m()\u001b[0m\n\u001b[1;32m     12\u001b[0m \u001b[0;31m# Menampilkan review\u001b[0m\u001b[0;34m\u001b[0m\u001b[0;34m\u001b[0m\u001b[0m\n\u001b[1;32m     13\u001b[0m \u001b[0;32mfor\u001b[0m \u001b[0mreview\u001b[0m \u001b[0;32min\u001b[0m \u001b[0mresult\u001b[0m\u001b[0;34m:\u001b[0m\u001b[0;34m\u001b[0m\u001b[0;34m\u001b[0m\u001b[0m\n\u001b[0;32m---> 14\u001b[0;31m     \u001b[0mprint\u001b[0m\u001b[0;34m(\u001b[0m\u001b[0mreview\u001b[0m\u001b[0;34m[\u001b[0m\u001b[0;34m'content'\u001b[0m\u001b[0;34m]\u001b[0m\u001b[0;34m)\u001b[0m\u001b[0;34m\u001b[0m\u001b[0;34m\u001b[0m\u001b[0m\n\u001b[0m",
            "\u001b[0;31mTypeError\u001b[0m: list indices must be integers or slices, not str"
          ]
        }
      ],
      "source": [
        "from google_play_scraper import app, reviews\n",
        "\n",
        "# ID paket aplikasi Google Play Store\n",
        "app_id = 'com.finaccel.android'\n",
        "\n",
        "# Mendapatkan informasi aplikasi\n",
        "info = app(app_id)\n",
        "\n",
        "# Mendapatkan review aplikasi\n",
        "result = reviews(app_id, lang='id', count=1000)\n",
        "\n",
        "# Menampilkan review\n",
        "for review in result:\n",
        "    print(review['content'])\n"
      ]
    },
    {
      "cell_type": "code",
      "execution_count": null,
      "metadata": {
        "id": "Uh-sjJbBCEiy"
      },
      "outputs": [],
      "source": [
        "from google_play_scraper import app, reviews_all\n",
        "\n",
        "# ID aplikasi Kredivoo atau com.finaccel.android di Google Play Store\n",
        "app_id = 'com.finaccel.android'\n",
        "\n",
        "# Mengambil informasi aplikasi\n",
        "app_info = app(app_id)\n",
        "\n",
        "# Mengambil review aplikasi (maksimum 1000 data)\n",
        "reviews = reviews_all(\n",
        "    app_id,\n",
        "    sleep_milliseconds=0, # Jeda antara setiap permintaan (opsional)\n",
        "    lang='id', # Bahasa review yang ingin diambil (opsional)\n",
        "    country='id', # Negara review yang ingin diambil (opsional)\n",
        "\n",
        ")\n",
        "\n",
        "# Menyimpan data review ke file CSV\n",
        "import csv\n",
        "\n",
        "with open('reviews.csv', 'w', newline='', encoding='utf-8') as csvfile:\n",
        "    fieldnames = ['reviewId', 'userName', 'userImage', 'content', 'score', 'thumbsUpCount', 'reviewCreatedVersion', 'at', 'replyContent', 'repliedAt', 'appVersion']\n",
        "    writer = csv.DictWriter(csvfile, fieldnames=fieldnames)\n",
        "    writer.writeheader()\n",
        "    for review in reviews:\n",
        "        writer.writerow(review)\n"
      ]
    },
    {
      "cell_type": "code",
      "execution_count": null,
      "metadata": {
        "id": "C1iAQVwlCnMf"
      },
      "outputs": [],
      "source": [
        "from google_play_scraper import Sort, reviews_all\n",
        "\n",
        "result = reviews_all(\n",
        "    'com.bukalapak.android',\n",
        "    sleep_milliseconds=0, # defaults to 0\n",
        "    lang='id', # defaults to 'en'\n",
        "    country='id', # defaults to 'us'\n",
        "    sort=Sort.NEWEST, # defaults to Sort.MOST_RELEVANT , you can use Sort.NEWEST to get newst reviews\n",
        ")"
      ]
    },
    {
      "cell_type": "code",
      "source": [
        "import requests\n",
        "from bs4 import BeautifulSoup\n",
        "import csv\n",
        "\n",
        "def scrape_google_play_reviews(app_id, num_reviews=1000, output_file=\"reviews.csv\"):\n",
        "    url = f\"https://play.google.com/store/apps/details?id={app_id}&hl=id&showAllReviews=true\"\n",
        "    headers = {\n",
        "        \"User-Agent\": \"Mozilla/5.0 (Windows NT 10.0; Win64; x64) AppleWebKit/537.36 (KHTML, like Gecko) Chrome/58.0.3029.110 Safari/537.3\"\n",
        "    }\n",
        "\n",
        "    response = requests.get(url, headers=headers)\n",
        "    soup = BeautifulSoup(response.content, \"html.parser\")\n",
        "\n",
        "    reviews = soup.find_all(\"div\", class_=\"review-body\")\n",
        "    if len(reviews) > num_reviews:\n",
        "        reviews = reviews[:num_reviews]\n",
        "\n",
        "    # Buka file CSV untuk ditulis\n",
        "    with open(output_file, 'w', newline='', encoding='utf-8') as file:\n",
        "        writer = csv.writer(file)\n",
        "        # Tulis header baris pertama\n",
        "        writer.writerow([\"Title\", \"Content\", \"Rating\"])\n",
        "\n",
        "        for review in reviews:\n",
        "            title = review.find(\"div\", class_=\"review-title\").text.strip()\n",
        "            content = review.find(\"div\", class_=\"review-body-content\").text.strip()\n",
        "            rating = review.find(\"div\", class_=\"tiny-star\").find(\"div\", class_=\"tiny-star\").attrs.get(\"aria-label\")\n",
        "\n",
        "            # Tulis data review ke dalam file CSV\n",
        "            writer.writerow([title, content, rating])\n",
        "\n",
        "# Contoh penggunaan\n",
        "app_id = \"com.finaccel.android\" # Ganti dengan ID aplikasi yang Anda inginkan\n",
        "scrape_google_play_reviews(app_id)\n"
      ],
      "metadata": {
        "id": "JncvivrfsKC0"
      },
      "execution_count": null,
      "outputs": []
    },
    {
      "cell_type": "code",
      "source": [
        "import requests\n",
        "from bs4 import BeautifulSoup\n",
        "\n",
        "def scrape_reviews(app_id, num_reviews=1000):\n",
        "    reviews = []\n",
        "    url = f\"https://play.google.com/store/apps/details?id={app_id}&hl=id&showAllReviews=true\"\n",
        "    while len(reviews) < num_reviews:\n",
        "        response = requests.get(url)\n",
        "        soup = BeautifulSoup(response.text, \"html.parser\")\n",
        "        review_elements = soup.find_all(\"div\", class_=\"RHo1pe\")\n",
        "        for review in review_elements:\n",
        "            user = review.find(\"div\", class_=\"X5PpBb\").text\n",
        "            rating = len(review.find_all(\"div\", class_=\"iXRFPc\"))\n",
        "            date = review.find(\"span\", class_=\"bp9Aid\").text\n",
        "            text = review.find(\"div\", class_=\"h3YV2d\").text\n",
        "            reviews.append({\"user\": user, \"rating\": rating, \"date\": date, \"text\": text})\n",
        "            if len(reviews) >= num_reviews:\n",
        "                break\n",
        "        next_button = soup.find(\"span\", class_=\"CwaK9\")\n",
        "        if next_button:\n",
        "            url = \"https://play.google.com\" + next_button.parent[\"href\"]\n",
        "        else:\n",
        "            break\n",
        "    return reviews\n",
        "\n",
        "if __name__ == \"__main__\":\n",
        "    app_id = \"com.finaccel.android\"\n",
        "    num_reviews = 1000\n",
        "    reviews = scrape_reviews(app_id, num_reviews)\n",
        "    for review in reviews:\n",
        "        print(review)\n"
      ],
      "metadata": {
        "id": "VzG2i_nQtuuN"
      },
      "execution_count": null,
      "outputs": []
    }
  ],
  "metadata": {
    "colab": {
      "provenance": []
    },
    "kernelspec": {
      "display_name": "Python 3",
      "name": "python3"
    },
    "language_info": {
      "name": "python"
    }
  },
  "nbformat": 4,
  "nbformat_minor": 0
}